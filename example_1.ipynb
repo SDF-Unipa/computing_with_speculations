{
 "cells": [
  {
   "cell_type": "code",
   "execution_count": null,
   "id": "8ce632ed",
   "metadata": {},
   "outputs": [],
   "source": [
    "import matplotlib.pyplot as plt\n",
    "import ipywidgets as w\n",
    "\n",
    "\n",
    "def logics(p):\n",
    "    contradiction = [(0, 0.5)]\n",
    "    refutation = [(0, 1 - p)]\n",
    "    conjecture = [(1 - p, 1 - (1 - p))]\n",
    "    hypothesis = [(1 - p, p - (1 - p))] if p > 0.5 else [(0, 0)]\n",
    "    consequence = [(p, 1 - p)]\n",
    "    fig, gnt = plt.subplots(figsize=(6, 2))\n",
    "    gnt.set_xlim(0, 1)\n",
    "    gnt.set_ylim(0, 4)\n",
    "    gnt.set_yticks([0.5, 1.5, 2.5, 3.5])\n",
    "    gnt.set_yticklabels([\"Refutations\", \"Conjectures\", \"Hypotheses\", \"Consequences\"])\n",
    "    gnt.broken_barh(refutation, (0, 1), facecolors=(\"xkcd:red\"))\n",
    "    gnt.broken_barh(conjecture, (1, 1), facecolors=(\"xkcd:orange\"))\n",
    "    gnt.broken_barh(hypothesis, (2, 1), facecolors=(\"xkcd:yellow\"))\n",
    "    gnt.broken_barh(consequence, (3, 1), facecolors=(\"xkcd:green\"))\n",
    "    gnt.broken_barh(contradiction, (0, 4), facecolors=(\"#0f0f0f80\"))\n",
    "    gnt.broken_barh([(p - 0.005, 0.01)], (0, 4), facecolors=(\"#00000080\"))\n",
    "    gnt.broken_barh([(1 - (p + 0.005), 0.01)], (0, 4), facecolors=(\"#00000020\"))\n",
    "\n",
    "\n",
    "w.interact(logics, p=w.FloatSlider(min=0, max=1, step=0.05, value=0.75))"
   ]
  }
 ],
 "metadata": {
  "kernelspec": {
   "display_name": "Python 3",
   "language": "python",
   "name": "python3"
  },
  "language_info": {
   "codemirror_mode": {
    "name": "ipython",
    "version": 3
   },
   "file_extension": ".py",
   "mimetype": "text/x-python",
   "name": "python",
   "nbconvert_exporter": "python",
   "pygments_lexer": "ipython3",
   "version": "3.11.12"
  }
 },
 "nbformat": 4,
 "nbformat_minor": 5
}
